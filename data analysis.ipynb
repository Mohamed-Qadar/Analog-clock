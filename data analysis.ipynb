{
  "nbformat": 4,
  "nbformat_minor": 0,
  "metadata": {
    "colab": {
      "provenance": [],
      "authorship_tag": "ABX9TyO0gBhjNkPsnpZdn0TW3WwI",
      "include_colab_link": true
    },
    "kernelspec": {
      "name": "python3",
      "display_name": "Python 3"
    },
    "language_info": {
      "name": "python"
    }
  },
  "cells": [
    {
      "cell_type": "markdown",
      "metadata": {
        "id": "view-in-github",
        "colab_type": "text"
      },
      "source": [
        "<a href=\"https://colab.research.google.com/github/Mohamed-Qadar/Analog-clock/blob/main/data%20analysis.ipynb\" target=\"_parent\"><img src=\"https://colab.research.google.com/assets/colab-badge.svg\" alt=\"Open In Colab\"/></a>"
      ]
    },
    {
      "cell_type": "code",
      "execution_count": null,
      "metadata": {
        "id": "spKQ_26-n8lz"
      },
      "outputs": [],
      "source": [
        "import pandas as pd\n",
        "dataset = pd.read_csv(\"datasetin_yolu.csv\")\n"
      ]
    },
    {
      "cell_type": "code",
      "execution_count": 1,
      "metadata": {
        "id": "vI-v5oHGy3_e"
      },
      "outputs": [],
      "source": [
        "import pandas as pd\n",
        "dataset = pd.read_csv(\"/turkey_car_market.csv.zip\")\n"
      ]
    },
    {
      "cell_type": "code",
      "source": [
        "dataset = pd.read_csv(\"/turkey_car_market.csv.zip\")\n",
        "print(dataset)"
      ],
      "metadata": {
        "colab": {
          "base_uri": "https://localhost:8080/"
        },
        "id": "-qTa02-AzGTh",
        "outputId": "9ebe5ae6-e146-4b16-dc94-4ac04385b012"
      },
      "execution_count": 2,
      "outputs": [
        {
          "output_type": "stream",
          "name": "stdout",
          "text": [
            "     İlan Tarihi   Marka Arac Tip Grubu             Arac Tip  Model Yıl  \\\n",
            "0     27/05/2020  Jaguar             XF  2.0 D Prestige Plus     2017.0   \n",
            "1     16/06/2020   Acura             CL                    -     2015.0   \n",
            "2     14/06/2020   Acura             CL                  2.2     1994.0   \n",
            "3     11/06/2020   Acura             CL                    -     2013.0   \n",
            "4     11/06/2020   Acura             CL                  2.2     2010.0   \n",
            "...          ...     ...            ...                  ...        ...   \n",
            "9039  06/06/2020   Tofaş          Şahin                  1.6     1994.0   \n",
            "9040  05/06/2020   Tofaş          Şahin        Şahin 5 vites     1992.0   \n",
            "9041  05/06/2020   Tofaş          Doğan                  SLX     1993.0   \n",
            "9042  04/06/2020   Tofaş         Kartal       Kartal 5 Vites     1991.0   \n",
            "9043  04/06/2020   Tofaş         Kartal       Kartal 5 Vites     1996.0   \n",
            "\n",
            "      Yakıt Turu                Vites           CCM Beygir Gucu         Renk  \\\n",
            "0          Dizel       Otomatik Vites  1801-2000 cc  176-200 BG    Lacivert    \n",
            "1          Dizel  Yarı Otomatik Vites  1301-1600 cc  101-125 BG        Mavi    \n",
            "2     Benzin/LPG            Düz Vites  1301-1600 cc  101-125 BG     Turkuaz    \n",
            "3          Dizel            Düz Vites  1301-1600 cc   76-100 BG  Kahverengi    \n",
            "4          Dizel       Otomatik Vites  1801-2000 cc  151-175 BG       Beyaz    \n",
            "...          ...                  ...           ...         ...          ...   \n",
            "9039  Benzin/LPG            Düz Vites  1301-1600 cc    51-75 BG       Beyaz    \n",
            "9040  Benzin/LPG            Düz Vites  1301-1600 cc   76-100 BG         Bej    \n",
            "9041  Benzin/LPG            Düz Vites  1301-1600 cc   76-100 BG       Yeşil    \n",
            "9042  Benzin/LPG            Düz Vites  1601-1800 cc   76-100 BG     Kırmızı    \n",
            "9043  Benzin/LPG            Düz Vites  1301-1600 cc    51-75 BG       Beyaz    \n",
            "\n",
            "             Kasa Tipi      Kimden  Durum      Km   Fiyat  \n",
            "0     Hatchback 5 Kapı   Galeriden  2. El   26100  634500  \n",
            "1                Sedan  Sahibinden  2. El  127000  151500  \n",
            "2                Sedan  Sahibinden  2. El  175000   19750  \n",
            "3                Sedan  Sahibinden  2. El     325   52000  \n",
            "4                Sedan  Sahibinden  2. El  207000  148750  \n",
            "...                ...         ...    ...     ...     ...  \n",
            "9039             Sedan   Galeriden  2. El  121212   12250  \n",
            "9040             Sedan  Sahibinden  2. El   54000   16300  \n",
            "9041             Sedan  Sahibinden  2. El  135000   19000  \n",
            "9042  Hatchback 5 Kapı   Galeriden  2. El  250000   11000  \n",
            "9043             Sedan   Galeriden  2. El      11   15750  \n",
            "\n",
            "[9044 rows x 15 columns]\n"
          ]
        }
      ]
    },
    {
      "cell_type": "code",
      "source": [
        "eksik_veriler = dataset.isnull().sum()\n",
        "print(eksik_veriler)\n"
      ],
      "metadata": {
        "colab": {
          "base_uri": "https://localhost:8080/"
        },
        "id": "fVM4WOvVzXAD",
        "outputId": "6779dfbd-889e-47ad-b479-66102cbcba29"
      },
      "execution_count": 3,
      "outputs": [
        {
          "output_type": "stream",
          "name": "stdout",
          "text": [
            "İlan Tarihi       0\n",
            "Marka             0\n",
            "Arac Tip Grubu    0\n",
            "Arac Tip          0\n",
            "Model Yıl         0\n",
            "Yakıt Turu        0\n",
            "Vites             0\n",
            "CCM               0\n",
            "Beygir Gucu       0\n",
            "Renk              0\n",
            "Kasa Tipi         0\n",
            "Kimden            0\n",
            "Durum             0\n",
            "Km                0\n",
            "Fiyat             0\n",
            "dtype: int64\n"
          ]
        }
      ]
    }
  ]
}